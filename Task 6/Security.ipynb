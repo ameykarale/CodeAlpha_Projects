{
 "cells": [
  {
   "cell_type": "markdown",
   "metadata": {},
   "source": [
    "# CODE FOR SECURITY & PRIVACY OF DATA"
   ]
  },
  {
   "cell_type": "code",
   "execution_count": 35,
   "metadata": {},
   "outputs": [],
   "source": [
    "import pandas\n",
    "import numpy"
   ]
  },
  {
   "cell_type": "code",
   "execution_count": 36,
   "metadata": {},
   "outputs": [],
   "source": [
    "dataDf = pandas.read_csv('securitydata.csv',\n",
    "                          delimiter=';')"
   ]
  },
  {
   "cell_type": "code",
   "execution_count": 37,
   "metadata": {},
   "outputs": [],
   "source": [
    "dataQiP1Df = dataDf[['Age','Education','Marital-Status','Race']]"
   ]
  },
  {
   "cell_type": "code",
   "execution_count": 38,
   "metadata": {},
   "outputs": [],
   "source": [
    "varAge = ''\n",
    "varEducation = ''\n",
    "varMaritalStatus = ''\n",
    "varRace = ''"
   ]
  },
  {
   "cell_type": "code",
   "execution_count": 39,
   "metadata": {},
   "outputs": [
    {
     "name": "stderr",
     "output_type": "stream",
     "text": [
      "C:\\Users\\prath\\AppData\\Local\\Temp\\ipykernel_2852\\1102056159.py:12: FutureWarning: Setting an item of incompatible dtype is deprecated and will raise in a future error of pandas. Value 'Adult' has dtype incompatible with int64, please explicitly cast to a compatible dtype first.\n",
      "  dataQiP1Df.loc[index, 'Age'] = varAge\n"
     ]
    }
   ],
   "source": [
    "for index, row in dataQiP1Df.iterrows():\n",
    "\n",
    "   if(row['Age']<35):\n",
    "       varAge = 'Young'\n",
    "   elif(row['Age']>=70):\n",
    "       varAge = 'Old'\n",
    "   elif(row['Age']<70 and row['Age']>=35):\n",
    "       varAge = 'Adult'\n",
    "   else:\n",
    "       varAge = '*'\n",
    "       \n",
    "   dataQiP1Df.loc[index, 'Age'] = varAge\n",
    "   \n",
    "   if(row['Education'].strip() == 'Bachelors' or row['Education'].strip() == 'Masters' or row['Education'].strip() == 'Doctorate' or row['Education'].strip() == 'Prof-school' or row['Education'].strip() == 'Some-college'):\n",
    "       varEducation = 'Degree Level'\n",
    "   elif(row['Education'].strip() == 'HS-grad' or row['Education'].strip() == 'Assoc-acdm' or row['Education'].strip() == 'Assoc-voc'):\n",
    "       varEducation = 'High School Level'\n",
    "   elif(row['Education'].strip() == '11th' or row['Education'].strip() == '9th' or row['Education'].strip() == '7th-8th' or row['Education'].strip() == '12th' or row['Education'].strip() == '1st-4th' or row['Education'].strip() == '10th' or row['Education'].strip() == '5th-6th' or row['Education'].strip() == 'Preschool'):\n",
    "       varEducation = 'School Level or lower'\n",
    "   else:\n",
    "       varEducation = '*'\n",
    "       \n",
    "   dataQiP1Df.loc[index, 'Education'] = varEducation\n",
    "   \n",
    "   if(row['Marital-Status'].strip() == 'Divorced' or row['Marital-Status'].strip() == 'Widowed' or row['Marital-Status'].strip() == 'Never-married'):\n",
    "       varMaritalStatus = 'Not Married'\n",
    "   elif(row['Marital-Status'].strip() == 'Married-civ-spouse' or row['Marital-Status'].strip() == 'Separated' or row['Marital-Status'].strip() == 'Married-spouse-absent' or row['Marital-Status'].strip() == 'Married-AF-spouse'):\n",
    "       varMaritalStatus = 'Married'\n",
    "   else:\n",
    "       varMaritalStatus = '*'\n",
    "       \n",
    "   dataQiP1Df.loc[index, 'Marital-Status'] = varMaritalStatus\n",
    "   \n",
    "   if(row['Race'].strip() == 'Asian-Pac-Islander' or row['Race'].strip() == 'Amer-Indian-Eskimo'):\n",
    "       varRace = 'American'\n",
    "   elif(row['Race'].strip() == 'Other' or row['Race'].strip() == 'Black' or row['Race'].strip() == 'White'):\n",
    "       varRace = 'General'\n",
    "   else:\n",
    "       varRace = '*'\n",
    "\n",
    "   dataQiP1Df.loc[index, 'Race'] = varRace"
   ]
  },
  {
   "cell_type": "code",
   "execution_count": 40,
   "metadata": {},
   "outputs": [],
   "source": [
    "dataQiP1Df.groupby(['Age','Education','Marital-Status','Race']).size().reset_index().rename(columns={0:'k'})\n",
    "distorsion = ((1/2)+(1/2)+(1/2)+(1/2))/4\n",
    "\n",
    "precision = 1-(((1/2)+(1/2)+(1/2)+(1/2)*32651)/32651*4)"
   ]
  },
  {
   "cell_type": "code",
   "execution_count": 41,
   "metadata": {},
   "outputs": [
    {
     "data": {
      "text/plain": [
       "Education\n",
       " HS-grad         10501\n",
       " Some-college     7291\n",
       " Bachelors        5355\n",
       " Masters          1723\n",
       " Assoc-voc        1382\n",
       " 11th             1175\n",
       " Assoc-acdm       1067\n",
       " 10th              933\n",
       " 7th-8th           646\n",
       " Prof-school       576\n",
       " 9th               514\n",
       " 12th              433\n",
       " Doctorate         413\n",
       " 5th-6th           333\n",
       " 1st-4th           168\n",
       " Preschool          51\n",
       "Name: count, dtype: int64"
      ]
     },
     "execution_count": 41,
     "metadata": {},
     "output_type": "execute_result"
    }
   ],
   "source": [
    "dataQiP2Df = dataDf[['Age','Education','Marital-Status','Race']]\n",
    "\n",
    "dataQiP2Df['Education'].value_counts()"
   ]
  },
  {
   "cell_type": "code",
   "execution_count": 42,
   "metadata": {},
   "outputs": [
    {
     "name": "stderr",
     "output_type": "stream",
     "text": [
      "C:\\Users\\prath\\AppData\\Local\\Temp\\ipykernel_2852\\3943269965.py:4: SettingWithCopyWarning: \n",
      "A value is trying to be set on a copy of a slice from a DataFrame\n",
      "\n",
      "See the caveats in the documentation: https://pandas.pydata.org/pandas-docs/stable/user_guide/indexing.html#returning-a-view-versus-a-copy\n",
      "  generated1000dfWithoutMostFrequent.drop(idx, axis=0, inplace=True)\n",
      "C:\\Users\\prath\\AppData\\Local\\Temp\\ipykernel_2852\\3943269965.py:7: SettingWithCopyWarning: \n",
      "A value is trying to be set on a copy of a slice from a DataFrame\n",
      "\n",
      "See the caveats in the documentation: https://pandas.pydata.org/pandas-docs/stable/user_guide/indexing.html#returning-a-view-versus-a-copy\n",
      "  generated1000dfWithoutSecondMostFreq.drop(idx, axis=0, inplace=True)\n",
      "C:\\Users\\prath\\AppData\\Local\\Temp\\ipykernel_2852\\3943269965.py:10: SettingWithCopyWarning: \n",
      "A value is trying to be set on a copy of a slice from a DataFrame\n",
      "\n",
      "See the caveats in the documentation: https://pandas.pydata.org/pandas-docs/stable/user_guide/indexing.html#returning-a-view-versus-a-copy\n",
      "  generated1000dfWithoutLeastFreq.drop(idx, axis=0, inplace=True)\n"
     ]
    }
   ],
   "source": [
    "generated1000df = dataQiP2Df.head(1000)\n",
    "generated1000dfWithoutMostFrequent = dataQiP2Df.head(1000)\n",
    "idx = generated1000dfWithoutMostFrequent.index[generated1000dfWithoutMostFrequent['Education']==' HS-grad'][0]\n",
    "generated1000dfWithoutMostFrequent.drop(idx, axis=0, inplace=True)\n",
    "generated1000dfWithoutSecondMostFreq = dataQiP2Df.head(1000)\n",
    "idx = generated1000dfWithoutSecondMostFreq.index[generated1000dfWithoutSecondMostFreq['Education']==' Some-college'][0]\n",
    "generated1000dfWithoutSecondMostFreq.drop(idx, axis=0, inplace=True)\n",
    "generated1000dfWithoutLeastFreq = dataQiP2Df.head(1000)\n",
    "idx = generated1000dfWithoutLeastFreq.index[generated1000dfWithoutLeastFreq['Education']==' Preschool'][0]\n",
    "generated1000dfWithoutLeastFreq.drop(idx, axis=0, inplace=True)"
   ]
  },
  {
   "cell_type": "code",
   "execution_count": 43,
   "metadata": {},
   "outputs": [
    {
     "name": "stdout",
     "output_type": "stream",
     "text": [
      "Generated 1000\n"
     ]
    }
   ],
   "source": [
    "print('Generated 1000')\n",
    "maxOfgenerated1000df = generated1000df['Education'].value_counts().max()\n",
    "allValuesGenerated1000df = generated1000df['Education'].value_counts()"
   ]
  },
  {
   "cell_type": "code",
   "execution_count": 44,
   "metadata": {},
   "outputs": [
    {
     "name": "stdout",
     "output_type": "stream",
     "text": [
      "Without the most freq\n"
     ]
    }
   ],
   "source": [
    "print('Without the most freq')\n",
    "maxOfgenerated1000dfWithoutMostFrequent = generated1000dfWithoutMostFrequent['Education'].value_counts().max()\n",
    "allValuesGenerated1000dfWithoutMostFrequent = generated1000dfWithoutMostFrequent['Education'].value_counts()"
   ]
  },
  {
   "cell_type": "code",
   "execution_count": 45,
   "metadata": {},
   "outputs": [
    {
     "name": "stdout",
     "output_type": "stream",
     "text": [
      "Without second most freq\n"
     ]
    }
   ],
   "source": [
    "print('Without second most freq')\n",
    "maxOfgenerated1000dfWithoutSecondMostFreq = generated1000dfWithoutSecondMostFreq['Education'].value_counts().max()\n",
    "allValuesGenerated1000dfWithoutSecondMostFreq = generated1000dfWithoutSecondMostFreq['Education'].value_counts()"
   ]
  },
  {
   "cell_type": "code",
   "execution_count": 46,
   "metadata": {},
   "outputs": [
    {
     "name": "stdout",
     "output_type": "stream",
     "text": [
      "Without least freq\n"
     ]
    }
   ],
   "source": [
    "print('Without least freq')\n",
    "maxOfgenerated1000dfWithoutLeastFreq = generated1000dfWithoutLeastFreq['Education'].value_counts().max()\n",
    "allValuesGenerated1000dfWithoutLeastFreq = generated1000dfWithoutLeastFreq['Education'].value_counts()"
   ]
  },
  {
   "cell_type": "code",
   "execution_count": 47,
   "metadata": {},
   "outputs": [],
   "source": [
    "sensitivity = max(maxOfgenerated1000df - maxOfgenerated1000dfWithoutMostFrequent, maxOfgenerated1000df - maxOfgenerated1000dfWithoutSecondMostFreq, maxOfgenerated1000df - maxOfgenerated1000dfWithoutLeastFreq)"
   ]
  },
  {
   "cell_type": "code",
   "execution_count": 48,
   "metadata": {},
   "outputs": [],
   "source": [
    "epsilon05 = 0.5\n",
    "epsilon1 = 1\n",
    "\n",
    "denominatorOfProbOfGenerated1000df = 0\n",
    "for i in allValuesGenerated1000df:\n",
    "    denominatorOfProbOfGenerated1000df = denominatorOfProbOfGenerated1000df + numpy.exp(epsilon05*i/2*sensitivity)\n",
    "\n",
    "probOfGenerated1000dfEp05 = (numpy.exp(epsilon05*maxOfgenerated1000df/2*sensitivity))/denominatorOfProbOfGenerated1000df\n",
    "\n",
    "denominatorOfProbOfGenerated1000dfWithoutMostFrequent = 0\n",
    "for i in allValuesGenerated1000dfWithoutMostFrequent:\n",
    "    denominatorOfProbOfGenerated1000dfWithoutMostFrequent = denominatorOfProbOfGenerated1000dfWithoutMostFrequent + numpy.exp(epsilon05*i/2*sensitivity)\n",
    "\n",
    "probOfGenerated1000dfWithoutMostFrequentEp05 = (numpy.exp(epsilon05*maxOfgenerated1000dfWithoutMostFrequent/2*sensitivity))/denominatorOfProbOfGenerated1000dfWithoutMostFrequent\n",
    "\n",
    "denominatorOfProbOfGenerated1000dfWithoutSecondMostFrequent = 0\n",
    "for i in allValuesGenerated1000dfWithoutSecondMostFreq:\n",
    "    denominatorOfProbOfGenerated1000dfWithoutSecondMostFrequent = denominatorOfProbOfGenerated1000dfWithoutSecondMostFrequent + numpy.exp(epsilon05*i/2*sensitivity)\n",
    "\n",
    "probOfGenerated1000dfWithoutSecondMostFrequentEp05 = (numpy.exp(epsilon05*maxOfgenerated1000dfWithoutSecondMostFreq/2*sensitivity))/denominatorOfProbOfGenerated1000dfWithoutSecondMostFrequent\n",
    "\n",
    "denominatorOfProbOfGenerated1000dfWithoutLeastFrequent = 0\n",
    "for i in allValuesGenerated1000dfWithoutLeastFreq:\n",
    "    denominatorOfProbOfGenerated1000dfWithoutLeastFrequent = denominatorOfProbOfGenerated1000dfWithoutLeastFrequent + numpy.exp(epsilon05*i/2*sensitivity)\n",
    "\n",
    "probOfGenerated1000dfWithoutLeastFrequentEp05 = (numpy.exp(epsilon05*maxOfgenerated1000dfWithoutLeastFreq/2*sensitivity))/denominatorOfProbOfGenerated1000dfWithoutLeastFrequent"
   ]
  },
  {
   "cell_type": "code",
   "execution_count": 49,
   "metadata": {},
   "outputs": [],
   "source": [
    "epsilonOriginalAndWithoutMostEp05 = probOfGenerated1000dfEp05/probOfGenerated1000dfWithoutMostFrequentEp05\n",
    "epsilonOriginalAndWithoutSecondMostEp05 = probOfGenerated1000dfEp05/probOfGenerated1000dfWithoutSecondMostFrequentEp05\n",
    "epsilonOriginalAndWithoutLeastEp05 = probOfGenerated1000dfEp05/probOfGenerated1000dfWithoutLeastFrequentEp05"
   ]
  },
  {
   "cell_type": "code",
   "execution_count": 50,
   "metadata": {},
   "outputs": [],
   "source": [
    "denominatorOfProbOfGenerated1000df = 0\n",
    "for i in allValuesGenerated1000df:\n",
    "    denominatorOfProbOfGenerated1000df = denominatorOfProbOfGenerated1000df + numpy.exp(epsilon1*i/2*sensitivity)\n",
    "\n",
    "probOfGenerated1000dfEp1 = (numpy.exp(epsilon1*maxOfgenerated1000df/2*sensitivity))/denominatorOfProbOfGenerated1000df\n",
    "\n",
    "denominatorOfProbOfGenerated1000dfWithoutMostFrequent = 0\n",
    "for i in allValuesGenerated1000dfWithoutMostFrequent:\n",
    "    denominatorOfProbOfGenerated1000dfWithoutMostFrequent = denominatorOfProbOfGenerated1000dfWithoutMostFrequent + numpy.exp(epsilon1*i/2*sensitivity)\n",
    "\n",
    "probOfGenerated1000dfWithoutMostFrequentEp1 = (numpy.exp(epsilon1*maxOfgenerated1000dfWithoutMostFrequent/2*sensitivity))/denominatorOfProbOfGenerated1000dfWithoutMostFrequent\n",
    "\n",
    "denominatorOfProbOfGenerated1000dfWithoutSecondMostFrequent = 0\n",
    "for i in allValuesGenerated1000dfWithoutSecondMostFreq:\n",
    "    denominatorOfProbOfGenerated1000dfWithoutSecondMostFrequent = denominatorOfProbOfGenerated1000dfWithoutSecondMostFrequent + numpy.exp(epsilon1*i/2*sensitivity)\n",
    "\n",
    "probOfGenerated1000dfWithoutSecondMostFrequentEp1 = (numpy.exp(epsilon1*maxOfgenerated1000dfWithoutSecondMostFreq/2*sensitivity))/denominatorOfProbOfGenerated1000dfWithoutSecondMostFrequent\n",
    "\n",
    "denominatorOfProbOfGenerated1000dfWithoutLeastFrequent = 0\n",
    "for i in allValuesGenerated1000dfWithoutLeastFreq:\n",
    "    denominatorOfProbOfGenerated1000dfWithoutLeastFrequent = denominatorOfProbOfGenerated1000dfWithoutLeastFrequent + numpy.exp(epsilon1*i/2*sensitivity)\n",
    "\n",
    "probOfGenerated1000dfWithoutLeastFrequentEp1 = (numpy.exp(epsilon1*maxOfgenerated1000dfWithoutLeastFreq/2*sensitivity))/denominatorOfProbOfGenerated1000dfWithoutLeastFrequent"
   ]
  },
  {
   "cell_type": "code",
   "execution_count": 51,
   "metadata": {},
   "outputs": [],
   "source": [
    "epsilonOriginalAndWithoutMostEp1 = probOfGenerated1000dfEp1/probOfGenerated1000dfWithoutMostFrequentEp1\n",
    "epsilonOriginalAndWithoutSecondMostEp1 = probOfGenerated1000dfEp1/probOfGenerated1000dfWithoutSecondMostFrequentEp1\n",
    "epsilonOriginalAndWithoutLeastEp1 = probOfGenerated1000dfEp1/probOfGenerated1000dfWithoutLeastFrequentEp1\n"
   ]
  },
  {
   "cell_type": "code",
   "execution_count": 52,
   "metadata": {},
   "outputs": [],
   "source": [
    "epsilonOriginalAndWithoutMostEp05 = numpy.log(probOfGenerated1000dfEp05/probOfGenerated1000dfWithoutMostFrequentEp05)\n",
    "epsilonOriginalAndWithoutSecondMostEp05 = numpy.log(probOfGenerated1000dfEp05/probOfGenerated1000dfWithoutSecondMostFrequentEp05)\n",
    "epsilonOriginalAndWithoutLeastEp05 = numpy.log(probOfGenerated1000dfEp05/probOfGenerated1000dfWithoutLeastFrequentEp05)"
   ]
  },
  {
   "cell_type": "code",
   "execution_count": 53,
   "metadata": {},
   "outputs": [],
   "source": [
    "epsilonOriginalAndWithoutMostEp1 = numpy.log(probOfGenerated1000dfEp1/probOfGenerated1000dfWithoutMostFrequentEp1)\n",
    "epsilonOriginalAndWithoutSecondMostEp1 = numpy.log(probOfGenerated1000dfEp1/probOfGenerated1000dfWithoutSecondMostFrequentEp1)\n",
    "epsilonOriginalAndWithoutLeastEp1 = numpy.log(probOfGenerated1000dfEp1/probOfGenerated1000dfWithoutLeastFrequentEp1)"
   ]
  }
 ],
 "metadata": {
  "kernelspec": {
   "display_name": "Python 3",
   "language": "python",
   "name": "python3"
  },
  "language_info": {
   "codemirror_mode": {
    "name": "ipython",
    "version": 3
   },
   "file_extension": ".py",
   "mimetype": "text/x-python",
   "name": "python",
   "nbconvert_exporter": "python",
   "pygments_lexer": "ipython3",
   "version": "3.11.7"
  }
 },
 "nbformat": 4,
 "nbformat_minor": 2
}
